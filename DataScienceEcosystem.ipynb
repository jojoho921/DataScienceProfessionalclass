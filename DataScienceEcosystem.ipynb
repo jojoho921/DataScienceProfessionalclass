{
 "cells": [
  {
   "cell_type": "markdown",
   "id": "d144a176-6856-4d2d-ad26-04778c4c27d2",
   "metadata": {},
   "source": [
    "# Data Science Tools and Ecosystem"
   ]
  },
  {
   "cell_type": "markdown",
   "id": "097c6951-0441-4175-b58b-97eae8b56ebc",
   "metadata": {},
   "source": [
    "#### Author: Joanne Ho"
   ]
  },
  {
   "cell_type": "markdown",
   "id": "44143c86-2ed8-4151-a2f0-acc4507ae5fd",
   "metadata": {},
   "source": [
    "## In this notebook, Data Science Tools and Ecosystem are summarized."
   ]
  },
  {
   "cell_type": "markdown",
   "id": "880c3e94-a145-43a7-b197-e9beb2868437",
   "metadata": {},
   "source": [
    "#### __Objectives__ \n",
    "- List the popular DS languages\n",
    "- List the commonly used DS libraries\n",
    "- List the commonly use DS tools\n",
    "- Using python evaluate arithmetic expressions"
   ]
  },
  {
   "cell_type": "markdown",
   "id": "c5a78ba5-40d3-4fe1-8721-d76f973c921c",
   "metadata": {},
   "source": [
    "### Some of the popular languages that Data Scientists use are:\n",
    "1. Python\n",
    "2. SQL\n",
    "3. R"
   ]
  },
  {
   "cell_type": "markdown",
   "id": "23edbd47-83c6-4dc6-907c-c76c02e0e0c1",
   "metadata": {},
   "source": [
    "### Some of the commonly used libraries used by Data Scientists include:\n",
    "1. numpy\n",
    "2. scipy\n",
    "3. scikit_learn"
   ]
  },
  {
   "cell_type": "markdown",
   "id": "046a06e6-1cd9-48ae-9e72-05f3184bf126",
   "metadata": {},
   "source": [
    "Data Science Tools |\n",
    "-----------|\n",
    "Notebook |\n",
    "R |\n",
    "R Studio |"
   ]
  },
  {
   "cell_type": "markdown",
   "id": "9d42952f-807a-43d7-a190-741f39320512",
   "metadata": {},
   "source": [
    "### Below are a few examples of evaluating arithmetic expressions in Python"
   ]
  },
  {
   "cell_type": "markdown",
   "id": "3a5313e8-6939-47b4-81cc-52e55b5824ed",
   "metadata": {},
   "source": [
    "#### This is a simple arithemtic expression to multiply then add integers"
   ]
  },
  {
   "cell_type": "code",
   "execution_count": 16,
   "id": "89ae6f45-37c4-45ed-8988-e2a428682e01",
   "metadata": {},
   "outputs": [
    {
     "data": {
      "text/plain": [
       "17"
      ]
     },
     "execution_count": 16,
     "metadata": {},
     "output_type": "execute_result"
    }
   ],
   "source": [
    "(3*4)+5"
   ]
  },
  {
   "cell_type": "markdown",
   "id": "7cb7bf32-1670-49f7-9bed-4b5967c0112a",
   "metadata": {},
   "source": [
    "#### This will convert 200 minutes to hours by diving by 60"
   ]
  },
  {
   "cell_type": "code",
   "execution_count": 19,
   "id": "06f69634-fc6f-4908-981f-ee5f3d4623cf",
   "metadata": {},
   "outputs": [
    {
     "name": "stdout",
     "output_type": "stream",
     "text": [
      "3.3333333333333335\n"
     ]
    }
   ],
   "source": [
    "hour=200/60\n",
    "print(hour)"
   ]
  },
  {
   "cell_type": "code",
   "execution_count": null,
   "id": "ed7245ae-dec9-4400-8e0f-2cceaca338a8",
   "metadata": {},
   "outputs": [],
   "source": []
  }
 ],
 "metadata": {
  "kernelspec": {
   "display_name": "anaconda-panel-2023.05-py310",
   "language": "python",
   "name": "conda-env-anaconda-panel-2023.05-py310-py"
  },
  "language_info": {
   "codemirror_mode": {
    "name": "ipython",
    "version": 3
   },
   "file_extension": ".py",
   "mimetype": "text/x-python",
   "name": "python",
   "nbconvert_exporter": "python",
   "pygments_lexer": "ipython3",
   "version": "3.11.5"
  }
 },
 "nbformat": 4,
 "nbformat_minor": 5
}
